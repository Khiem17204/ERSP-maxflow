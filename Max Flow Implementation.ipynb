{
 "cells": [
  {
   "cell_type": "code",
   "execution_count": 13,
   "id": "a2cc3bd1",
   "metadata": {},
   "outputs": [
    {
     "name": "stdout",
     "output_type": "stream",
     "text": [
      "Maximum Flow: 15\n"
     ]
    }
   ],
   "source": [
    "from collections import defaultdict \n",
    "# implementation using the Edomnd Karp's algorithm\n",
    "class maxFlow:\n",
    "    def __init__(self, graph):\n",
    "        self.graph = graph \n",
    "        self.source = 0\n",
    "        self.sink = len(graph) - 1\n",
    "        self.residual =[-1] * len(graph)\n",
    "        self.visited = [False] * len(graph)\n",
    "    def bfs(self):\n",
    "        queue = [self.source]\n",
    "        self.residual = [-1] * len(graph)\n",
    "        self.visited = [False] * len(graph)\n",
    "        # mark source as visited\n",
    "        self.visited[self.source] = True \n",
    "        # start queuing\n",
    "        while (queue):\n",
    "            u = queue.pop()\n",
    "            for v, capacity in enumerate(self.graph[u]):\n",
    "                if not self.visited[v] and capacity > 0:\n",
    "                    queue.append(v)\n",
    "                    self.residual[v] = u\n",
    "                    self.visited[v] = True \n",
    "        return self.visited[self.sink]\n",
    "    # implementing the max flow algorithm\n",
    "    def maxFlowAlgo(self):\n",
    "        maxFlow = 0\n",
    "        while self.bfs():\n",
    "            pathFlow = float('inf')\n",
    "            s = self.sink \n",
    "            while s != self.source:\n",
    "                pathFlow = min(pathFlow, self.graph[self.residual[s]][s])\n",
    "                s = self.residual[s]\n",
    "            maxFlow += pathFlow \n",
    "            v = self.sink\n",
    "            while v != self.source:\n",
    "                u = self.residual[v]\n",
    "                self.graph[u][v] -=pathFlow \n",
    "                self.graph[v][u] += pathFlow\n",
    "                v = u\n",
    "        return maxFlow\n",
    "# change graph to an adjacency list\n",
    "graph = [[0, 10, 5, 0, 0, 0],\n",
    "         [0, 0, 15, 10, 0, 0],\n",
    "         [0, 0, 0, 15, 10, 0],\n",
    "         [0, 0, 0, 0, 10, 10],\n",
    "         [0, 0, 0, 0, 0, 5],\n",
    "         [0, 0, 0, 0, 0, 0]]\n",
    "\n",
    "max_flow_solver = maxFlow(graph)\n",
    "max_flow = max_flow_solver.maxFlowAlgo()\n",
    "print(\"Maximum Flow:\", max_flow)\n",
    "\n",
    "\n"
   ]
  },
  {
   "cell_type": "code",
   "execution_count": null,
   "id": "65c8d879",
   "metadata": {},
   "outputs": [],
   "source": []
  }
 ],
 "metadata": {
  "kernelspec": {
   "display_name": "Python 3 (ipykernel)",
   "language": "python",
   "name": "python3"
  },
  "language_info": {
   "codemirror_mode": {
    "name": "ipython",
    "version": 3
   },
   "file_extension": ".py",
   "mimetype": "text/x-python",
   "name": "python",
   "nbconvert_exporter": "python",
   "pygments_lexer": "ipython3",
   "version": "3.11.4"
  }
 },
 "nbformat": 4,
 "nbformat_minor": 5
}
